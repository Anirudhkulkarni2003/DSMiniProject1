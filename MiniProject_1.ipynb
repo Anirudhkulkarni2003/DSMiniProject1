{
  "nbformat": 4,
  "nbformat_minor": 0,
  "metadata": {
    "colab": {
      "provenance": []
    },
    "kernelspec": {
      "name": "python3",
      "display_name": "Python 3"
    },
    "language_info": {
      "name": "python"
    }
  },
  "cells": [
    {
      "cell_type": "code",
      "execution_count": null,
      "metadata": {
        "id": "AsgLC5NPbzY7"
      },
      "outputs": [],
      "source": [
        "#Mini-Project 1 :-\n",
        "#EDA Bullet train stations in Japan\n",
        "#Dataset :- https://www.kaggle.com/datasets/japandata509/shinkansen-stations-in-japan"
      ]
    },
    {
      "cell_type": "code",
      "source": [
        "import pandas as pd\n",
        "df = pd.read_csv('/content/Shinkansen_stations_inJapan.csv')\n",
        "df"
      ],
      "metadata": {
        "colab": {
          "base_uri": "https://localhost:8080/",
          "height": 424
        },
        "id": "KN-hWlZtgTYg",
        "outputId": "045be3bc-35a8-488f-b0d2-110780cd09e6"
      },
      "execution_count": null,
      "outputs": [
        {
          "output_type": "execute_result",
          "data": {
            "text/plain": [
              "             Station_Name      Shinkansen_Line  Year Prefecture  \\\n",
              "0                   Tokyo   Tokaido_Shinkansen  1964      Tokyo   \n",
              "1               Shinagawa   Tokaido_Shinkansen  2003      Tokyo   \n",
              "2           Shin-Yokohama   Tokaido_Shinkansen  1964   Kanagawa   \n",
              "3                 Odawara   Tokaido_Shinkansen  1964   Kanagawa   \n",
              "4                   Atami   Tokaido_Shinkansen  1964   Shizuoka   \n",
              "..                    ...                  ...   ...        ...   \n",
              "103                Sendai    Kyushu_Shinkansen  2004  Kagoshima   \n",
              "104        Kagoshima-Chuo    Kyushu_Shinkansen  2004  Kagoshima   \n",
              "105   Okutsugaru-Imabetsu  Hokkaido_Shinkansen  2016     Aomori   \n",
              "106               Kikonai  Hokkaido_Shinkansen  2016   Hokkaido   \n",
              "107  Shin-Hakodate-Hokuto  Hokkaido_Shinkansen  2016   Hokkaido   \n",
              "\n",
              "     Distance from Tokyo st      Company  \n",
              "0                       0.0   JR_Central  \n",
              "1                       6.8   JR_Central  \n",
              "2                      28.8   JR_Central  \n",
              "3                      83.9   JR_Central  \n",
              "4                     104.6   JR_Central  \n",
              "..                      ...          ...  \n",
              "103                  1417.7    JR_Kyushu  \n",
              "104                  1463.8    JR_Kyushu  \n",
              "105                   752.2  JR_Hokkaido  \n",
              "106                   827.0  JR_Hokkaido  \n",
              "107                   862.5  JR_Hokkaido  \n",
              "\n",
              "[108 rows x 6 columns]"
            ],
            "text/html": [
              "\n",
              "  <div id=\"df-873d55e1-8f6f-4efe-9ca4-a22a0b0c7e45\">\n",
              "    <div class=\"colab-df-container\">\n",
              "      <div>\n",
              "<style scoped>\n",
              "    .dataframe tbody tr th:only-of-type {\n",
              "        vertical-align: middle;\n",
              "    }\n",
              "\n",
              "    .dataframe tbody tr th {\n",
              "        vertical-align: top;\n",
              "    }\n",
              "\n",
              "    .dataframe thead th {\n",
              "        text-align: right;\n",
              "    }\n",
              "</style>\n",
              "<table border=\"1\" class=\"dataframe\">\n",
              "  <thead>\n",
              "    <tr style=\"text-align: right;\">\n",
              "      <th></th>\n",
              "      <th>Station_Name</th>\n",
              "      <th>Shinkansen_Line</th>\n",
              "      <th>Year</th>\n",
              "      <th>Prefecture</th>\n",
              "      <th>Distance from Tokyo st</th>\n",
              "      <th>Company</th>\n",
              "    </tr>\n",
              "  </thead>\n",
              "  <tbody>\n",
              "    <tr>\n",
              "      <th>0</th>\n",
              "      <td>Tokyo</td>\n",
              "      <td>Tokaido_Shinkansen</td>\n",
              "      <td>1964</td>\n",
              "      <td>Tokyo</td>\n",
              "      <td>0.0</td>\n",
              "      <td>JR_Central</td>\n",
              "    </tr>\n",
              "    <tr>\n",
              "      <th>1</th>\n",
              "      <td>Shinagawa</td>\n",
              "      <td>Tokaido_Shinkansen</td>\n",
              "      <td>2003</td>\n",
              "      <td>Tokyo</td>\n",
              "      <td>6.8</td>\n",
              "      <td>JR_Central</td>\n",
              "    </tr>\n",
              "    <tr>\n",
              "      <th>2</th>\n",
              "      <td>Shin-Yokohama</td>\n",
              "      <td>Tokaido_Shinkansen</td>\n",
              "      <td>1964</td>\n",
              "      <td>Kanagawa</td>\n",
              "      <td>28.8</td>\n",
              "      <td>JR_Central</td>\n",
              "    </tr>\n",
              "    <tr>\n",
              "      <th>3</th>\n",
              "      <td>Odawara</td>\n",
              "      <td>Tokaido_Shinkansen</td>\n",
              "      <td>1964</td>\n",
              "      <td>Kanagawa</td>\n",
              "      <td>83.9</td>\n",
              "      <td>JR_Central</td>\n",
              "    </tr>\n",
              "    <tr>\n",
              "      <th>4</th>\n",
              "      <td>Atami</td>\n",
              "      <td>Tokaido_Shinkansen</td>\n",
              "      <td>1964</td>\n",
              "      <td>Shizuoka</td>\n",
              "      <td>104.6</td>\n",
              "      <td>JR_Central</td>\n",
              "    </tr>\n",
              "    <tr>\n",
              "      <th>...</th>\n",
              "      <td>...</td>\n",
              "      <td>...</td>\n",
              "      <td>...</td>\n",
              "      <td>...</td>\n",
              "      <td>...</td>\n",
              "      <td>...</td>\n",
              "    </tr>\n",
              "    <tr>\n",
              "      <th>103</th>\n",
              "      <td>Sendai</td>\n",
              "      <td>Kyushu_Shinkansen</td>\n",
              "      <td>2004</td>\n",
              "      <td>Kagoshima</td>\n",
              "      <td>1417.7</td>\n",
              "      <td>JR_Kyushu</td>\n",
              "    </tr>\n",
              "    <tr>\n",
              "      <th>104</th>\n",
              "      <td>Kagoshima-Chuo</td>\n",
              "      <td>Kyushu_Shinkansen</td>\n",
              "      <td>2004</td>\n",
              "      <td>Kagoshima</td>\n",
              "      <td>1463.8</td>\n",
              "      <td>JR_Kyushu</td>\n",
              "    </tr>\n",
              "    <tr>\n",
              "      <th>105</th>\n",
              "      <td>Okutsugaru-Imabetsu</td>\n",
              "      <td>Hokkaido_Shinkansen</td>\n",
              "      <td>2016</td>\n",
              "      <td>Aomori</td>\n",
              "      <td>752.2</td>\n",
              "      <td>JR_Hokkaido</td>\n",
              "    </tr>\n",
              "    <tr>\n",
              "      <th>106</th>\n",
              "      <td>Kikonai</td>\n",
              "      <td>Hokkaido_Shinkansen</td>\n",
              "      <td>2016</td>\n",
              "      <td>Hokkaido</td>\n",
              "      <td>827.0</td>\n",
              "      <td>JR_Hokkaido</td>\n",
              "    </tr>\n",
              "    <tr>\n",
              "      <th>107</th>\n",
              "      <td>Shin-Hakodate-Hokuto</td>\n",
              "      <td>Hokkaido_Shinkansen</td>\n",
              "      <td>2016</td>\n",
              "      <td>Hokkaido</td>\n",
              "      <td>862.5</td>\n",
              "      <td>JR_Hokkaido</td>\n",
              "    </tr>\n",
              "  </tbody>\n",
              "</table>\n",
              "<p>108 rows × 6 columns</p>\n",
              "</div>\n",
              "      <button class=\"colab-df-convert\" onclick=\"convertToInteractive('df-873d55e1-8f6f-4efe-9ca4-a22a0b0c7e45')\"\n",
              "              title=\"Convert this dataframe to an interactive table.\"\n",
              "              style=\"display:none;\">\n",
              "        \n",
              "  <svg xmlns=\"http://www.w3.org/2000/svg\" height=\"24px\"viewBox=\"0 0 24 24\"\n",
              "       width=\"24px\">\n",
              "    <path d=\"M0 0h24v24H0V0z\" fill=\"none\"/>\n",
              "    <path d=\"M18.56 5.44l.94 2.06.94-2.06 2.06-.94-2.06-.94-.94-2.06-.94 2.06-2.06.94zm-11 1L8.5 8.5l.94-2.06 2.06-.94-2.06-.94L8.5 2.5l-.94 2.06-2.06.94zm10 10l.94 2.06.94-2.06 2.06-.94-2.06-.94-.94-2.06-.94 2.06-2.06.94z\"/><path d=\"M17.41 7.96l-1.37-1.37c-.4-.4-.92-.59-1.43-.59-.52 0-1.04.2-1.43.59L10.3 9.45l-7.72 7.72c-.78.78-.78 2.05 0 2.83L4 21.41c.39.39.9.59 1.41.59.51 0 1.02-.2 1.41-.59l7.78-7.78 2.81-2.81c.8-.78.8-2.07 0-2.86zM5.41 20L4 18.59l7.72-7.72 1.47 1.35L5.41 20z\"/>\n",
              "  </svg>\n",
              "      </button>\n",
              "      \n",
              "  <style>\n",
              "    .colab-df-container {\n",
              "      display:flex;\n",
              "      flex-wrap:wrap;\n",
              "      gap: 12px;\n",
              "    }\n",
              "\n",
              "    .colab-df-convert {\n",
              "      background-color: #E8F0FE;\n",
              "      border: none;\n",
              "      border-radius: 50%;\n",
              "      cursor: pointer;\n",
              "      display: none;\n",
              "      fill: #1967D2;\n",
              "      height: 32px;\n",
              "      padding: 0 0 0 0;\n",
              "      width: 32px;\n",
              "    }\n",
              "\n",
              "    .colab-df-convert:hover {\n",
              "      background-color: #E2EBFA;\n",
              "      box-shadow: 0px 1px 2px rgba(60, 64, 67, 0.3), 0px 1px 3px 1px rgba(60, 64, 67, 0.15);\n",
              "      fill: #174EA6;\n",
              "    }\n",
              "\n",
              "    [theme=dark] .colab-df-convert {\n",
              "      background-color: #3B4455;\n",
              "      fill: #D2E3FC;\n",
              "    }\n",
              "\n",
              "    [theme=dark] .colab-df-convert:hover {\n",
              "      background-color: #434B5C;\n",
              "      box-shadow: 0px 1px 3px 1px rgba(0, 0, 0, 0.15);\n",
              "      filter: drop-shadow(0px 1px 2px rgba(0, 0, 0, 0.3));\n",
              "      fill: #FFFFFF;\n",
              "    }\n",
              "  </style>\n",
              "\n",
              "      <script>\n",
              "        const buttonEl =\n",
              "          document.querySelector('#df-873d55e1-8f6f-4efe-9ca4-a22a0b0c7e45 button.colab-df-convert');\n",
              "        buttonEl.style.display =\n",
              "          google.colab.kernel.accessAllowed ? 'block' : 'none';\n",
              "\n",
              "        async function convertToInteractive(key) {\n",
              "          const element = document.querySelector('#df-873d55e1-8f6f-4efe-9ca4-a22a0b0c7e45');\n",
              "          const dataTable =\n",
              "            await google.colab.kernel.invokeFunction('convertToInteractive',\n",
              "                                                     [key], {});\n",
              "          if (!dataTable) return;\n",
              "\n",
              "          const docLinkHtml = 'Like what you see? Visit the ' +\n",
              "            '<a target=\"_blank\" href=https://colab.research.google.com/notebooks/data_table.ipynb>data table notebook</a>'\n",
              "            + ' to learn more about interactive tables.';\n",
              "          element.innerHTML = '';\n",
              "          dataTable['output_type'] = 'display_data';\n",
              "          await google.colab.output.renderOutput(dataTable, element);\n",
              "          const docLink = document.createElement('div');\n",
              "          docLink.innerHTML = docLinkHtml;\n",
              "          element.appendChild(docLink);\n",
              "        }\n",
              "      </script>\n",
              "    </div>\n",
              "  </div>\n",
              "  "
            ]
          },
          "metadata": {},
          "execution_count": 2
        }
      ]
    },
    {
      "cell_type": "code",
      "source": [
        "df.info"
      ],
      "metadata": {
        "colab": {
          "base_uri": "https://localhost:8080/"
        },
        "id": "VavQaw4yhHp_",
        "outputId": "62c566d5-8508-4689-a675-9420a76b5ad1"
      },
      "execution_count": null,
      "outputs": [
        {
          "output_type": "execute_result",
          "data": {
            "text/plain": [
              "<bound method DataFrame.info of              Station_Name      Shinkansen_Line  Year Prefecture  \\\n",
              "0                   Tokyo   Tokaido_Shinkansen  1964      Tokyo   \n",
              "1               Shinagawa   Tokaido_Shinkansen  2003      Tokyo   \n",
              "2           Shin-Yokohama   Tokaido_Shinkansen  1964   Kanagawa   \n",
              "3                 Odawara   Tokaido_Shinkansen  1964   Kanagawa   \n",
              "4                   Atami   Tokaido_Shinkansen  1964   Shizuoka   \n",
              "..                    ...                  ...   ...        ...   \n",
              "103                Sendai    Kyushu_Shinkansen  2004  Kagoshima   \n",
              "104        Kagoshima-Chuo    Kyushu_Shinkansen  2004  Kagoshima   \n",
              "105   Okutsugaru-Imabetsu  Hokkaido_Shinkansen  2016     Aomori   \n",
              "106               Kikonai  Hokkaido_Shinkansen  2016   Hokkaido   \n",
              "107  Shin-Hakodate-Hokuto  Hokkaido_Shinkansen  2016   Hokkaido   \n",
              "\n",
              "     Distance from Tokyo st      Company  \n",
              "0                       0.0   JR_Central  \n",
              "1                       6.8   JR_Central  \n",
              "2                      28.8   JR_Central  \n",
              "3                      83.9   JR_Central  \n",
              "4                     104.6   JR_Central  \n",
              "..                      ...          ...  \n",
              "103                  1417.7    JR_Kyushu  \n",
              "104                  1463.8    JR_Kyushu  \n",
              "105                   752.2  JR_Hokkaido  \n",
              "106                   827.0  JR_Hokkaido  \n",
              "107                   862.5  JR_Hokkaido  \n",
              "\n",
              "[108 rows x 6 columns]>"
            ]
          },
          "metadata": {},
          "execution_count": 4
        }
      ]
    },
    {
      "cell_type": "code",
      "source": [
        "df.shape\n",
        "#Dataset has 108 rows and 6 columns"
      ],
      "metadata": {
        "colab": {
          "base_uri": "https://localhost:8080/"
        },
        "id": "GYPWRmaohOxW",
        "outputId": "ab67fe31-e13e-494a-e4ee-3fbb81bb400e"
      },
      "execution_count": null,
      "outputs": [
        {
          "output_type": "execute_result",
          "data": {
            "text/plain": [
              "(108, 6)"
            ]
          },
          "metadata": {},
          "execution_count": 7
        }
      ]
    },
    {
      "cell_type": "code",
      "source": [
        "df.size\n",
        "#Dataset has 648 elements"
      ],
      "metadata": {
        "colab": {
          "base_uri": "https://localhost:8080/"
        },
        "id": "uqIX_Y0ahSzf",
        "outputId": "dd1d2c2e-f998-41fb-859f-b52ee0d7ef96"
      },
      "execution_count": null,
      "outputs": [
        {
          "output_type": "execute_result",
          "data": {
            "text/plain": [
              "648"
            ]
          },
          "metadata": {},
          "execution_count": 5
        }
      ]
    },
    {
      "cell_type": "code",
      "source": [
        "df.isnull().sum()\n",
        "#Dataset does not contain any null value"
      ],
      "metadata": {
        "colab": {
          "base_uri": "https://localhost:8080/"
        },
        "id": "KrOXT32BhVIG",
        "outputId": "4cbf9cfe-b6bd-4a8e-ed44-e9ea9666b5ca"
      },
      "execution_count": null,
      "outputs": [
        {
          "output_type": "execute_result",
          "data": {
            "text/plain": [
              "Station_Name              0\n",
              "Shinkansen_Line           0\n",
              "Year                      0\n",
              "Prefecture                0\n",
              "Distance from Tokyo st    0\n",
              "Company                   0\n",
              "dtype: int64"
            ]
          },
          "metadata": {},
          "execution_count": 6
        }
      ]
    },
    {
      "cell_type": "code",
      "source": [
        "df.nunique"
      ],
      "metadata": {
        "id": "EFE4m1Cwh1iu",
        "colab": {
          "base_uri": "https://localhost:8080/"
        },
        "outputId": "6a956552-6c57-4b84-b535-a77ac2c00cb3"
      },
      "execution_count": null,
      "outputs": [
        {
          "output_type": "execute_result",
          "data": {
            "text/plain": [
              "<bound method DataFrame.nunique of              Station_Name      Shinkansen_Line  Year Prefecture  \\\n",
              "0                   Tokyo   Tokaido_Shinkansen  1964      Tokyo   \n",
              "1               Shinagawa   Tokaido_Shinkansen  2003      Tokyo   \n",
              "2           Shin-Yokohama   Tokaido_Shinkansen  1964   Kanagawa   \n",
              "3                 Odawara   Tokaido_Shinkansen  1964   Kanagawa   \n",
              "4                   Atami   Tokaido_Shinkansen  1964   Shizuoka   \n",
              "..                    ...                  ...   ...        ...   \n",
              "103                Sendai    Kyushu_Shinkansen  2004  Kagoshima   \n",
              "104        Kagoshima-Chuo    Kyushu_Shinkansen  2004  Kagoshima   \n",
              "105   Okutsugaru-Imabetsu  Hokkaido_Shinkansen  2016     Aomori   \n",
              "106               Kikonai  Hokkaido_Shinkansen  2016   Hokkaido   \n",
              "107  Shin-Hakodate-Hokuto  Hokkaido_Shinkansen  2016   Hokkaido   \n",
              "\n",
              "     Distance from Tokyo st      Company  \n",
              "0                       0.0   JR_Central  \n",
              "1                       6.8   JR_Central  \n",
              "2                      28.8   JR_Central  \n",
              "3                      83.9   JR_Central  \n",
              "4                     104.6   JR_Central  \n",
              "..                      ...          ...  \n",
              "103                  1417.7    JR_Kyushu  \n",
              "104                  1463.8    JR_Kyushu  \n",
              "105                   752.2  JR_Hokkaido  \n",
              "106                   827.0  JR_Hokkaido  \n",
              "107                   862.5  JR_Hokkaido  \n",
              "\n",
              "[108 rows x 6 columns]>"
            ]
          },
          "metadata": {},
          "execution_count": 10
        }
      ]
    },
    {
      "cell_type": "code",
      "source": [
        "#1.We will analyze the statiosn by their prefecture(home state)\n",
        "Psize=df.groupby('Prefecture',sort=False).size()  \n",
        "print(Psize)"
      ],
      "metadata": {
        "colab": {
          "base_uri": "https://localhost:8080/"
        },
        "id": "SbQX-miqsSXK",
        "outputId": "92da19da-cc70-4135-b828-e4383ff9d43d"
      },
      "execution_count": null,
      "outputs": [
        {
          "output_type": "stream",
          "name": "stdout",
          "text": [
            "Prefecture\n",
            "Tokyo         4\n",
            "Kanagawa      2\n",
            "Shizuoka      6\n",
            "Aichi         3\n",
            "Gifu          1\n",
            "Shiga         1\n",
            "Kyoto         1\n",
            "Osaka         1\n",
            "Hyogo         4\n",
            "Okayama       2\n",
            "Hiroshima     5\n",
            "Yamaguchi     5\n",
            "Fukuoka       5\n",
            "Saitama       3\n",
            "Tochigi       3\n",
            "Fukushima     3\n",
            "Miyagi        4\n",
            "Iwate         8\n",
            "Aomori        4\n",
            "Gunma         3\n",
            "Niigata       7\n",
            "Yamagata     10\n",
            "Akita         4\n",
            "Nagano        5\n",
            "Toyama        3\n",
            "Ishikawa      1\n",
            "Saga          1\n",
            "Kumamoto      4\n",
            "Kagoshima     3\n",
            "Hokkaido      2\n",
            "dtype: int64\n"
          ]
        }
      ]
    },
    {
      "cell_type": "code",
      "source": [
        "#Visualization of above data\n",
        "import pandas as pd\n",
        "df = pd.read_csv('/content/Shinkansen_stations_inJapan.csv')\n",
        "df.groupby('Prefecture',sort=False).size().plot(kind ='barh')"
      ],
      "metadata": {
        "colab": {
          "base_uri": "https://localhost:8080/",
          "height": 283
        },
        "outputId": "26cc4732-deee-439f-ac51-9e55f01ed0b8",
        "id": "A0mfNaV_LV6B"
      },
      "execution_count": null,
      "outputs": [
        {
          "output_type": "execute_result",
          "data": {
            "text/plain": [
              "<matplotlib.axes._subplots.AxesSubplot at 0x7fd2e25dd890>"
            ]
          },
          "metadata": {},
          "execution_count": 25
        },
        {
          "output_type": "display_data",
          "data": {
            "text/plain": [
              "<Figure size 432x288 with 1 Axes>"
            ],
            "image/png": "[encoded data removed]"
          },
          "metadata": {
            "needs_background": "light"
          }
        }
      ]
    },
    {
      "cell_type": "code",
      "source": [
        "#Now we will find, which prefecture has maximum stations\n",
        "max = np.max(df['Prefecture'])\n",
        "print(max)"
      ],
      "metadata": {
        "colab": {
          "base_uri": "https://localhost:8080/"
        },
        "id": "8wbkpZzWv7zo",
        "outputId": "5423d518-a97a-4544-8a93-fb025be5e29d"
      },
      "execution_count": null,
      "outputs": [
        {
          "output_type": "stream",
          "name": "stdout",
          "text": [
            "Yamaguchi\n"
          ]
        }
      ]
    },
    {
      "cell_type": "code",
      "source": [
        "import pandas as pd\n",
        "df = pd.read_csv('/content/Shinkansen_stations_inJapan.csv')"
      ],
      "metadata": {
        "id": "42D1tfelMZ12"
      },
      "execution_count": null,
      "outputs": []
    },
    {
      "cell_type": "code",
      "source": [
        "#2.Now we will understand how many stations are owned by different railway companies and analyze them.\n",
        "#Listing the companies.\n",
        "Cname = df.Company.unique()\n",
        "print(Cname)"
      ],
      "metadata": {
        "colab": {
          "base_uri": "https://localhost:8080/"
        },
        "id": "iNd-SRg7t-ey",
        "outputId": "43906e0e-f0f6-422f-fa5e-3492158dde87"
      },
      "execution_count": null,
      "outputs": [
        {
          "output_type": "stream",
          "name": "stdout",
          "text": [
            "['JR_Central' 'JR_West' 'JR_East' 'JR_Kyushu' 'JR_Hokkaido']\n"
          ]
        }
      ]
    },
    {
      "cell_type": "code",
      "source": [
        "#Grouping the stations by station owner\n",
        "Csize=df.groupby('Company',sort=False).size()\n",
        "print(Csize)"
      ],
      "metadata": {
        "colab": {
          "base_uri": "https://localhost:8080/"
        },
        "id": "_aa9Q2QvmeGI",
        "outputId": "e6323afc-eee2-4cb8-cd2b-46b7a37144d3"
      },
      "execution_count": null,
      "outputs": [
        {
          "output_type": "stream",
          "name": "stdout",
          "text": [
            "Company\n",
            "JR_Central     17\n",
            "JR_West        23\n",
            "JR_East        54\n",
            "JR_Kyushu      11\n",
            "JR_Hokkaido     3\n",
            "dtype: int64\n"
          ]
        }
      ]
    },
    {
      "cell_type": "code",
      "source": [
        "#Visualization of above data\n",
        "c= ['Green','Blue','Orange','Red','Lime']\n",
        "df['Company'].value_counts().plot(kind ='pie',colors=c,explode=[0.2,0.1,0.1,0.1,0.4])"
      ],
      "metadata": {
        "colab": {
          "base_uri": "https://localhost:8080/",
          "height": 275
        },
        "id": "-_pL37Fyy8zR",
        "outputId": "e7af925e-351a-4b0e-f4ca-42f584956606"
      },
      "execution_count": null,
      "outputs": [
        {
          "output_type": "execute_result",
          "data": {
            "text/plain": [
              "<matplotlib.axes._subplots.AxesSubplot at 0x7fd2e2464310>"
            ]
          },
          "metadata": {},
          "execution_count": 38
        },
        {
          "output_type": "display_data",
          "data": {
            "text/plain": [
              "<Figure size 432x288 with 1 Axes>"
            ],
            "image/png": "[encoded data removed]"
          },
          "metadata": {}
        }
      ]
    },
    {
      "cell_type": "code",
      "source": [
        "#3.We will analyze stations based on different lines(routes) they lie on.\n",
        "#Total number of lines(routes) present\n",
        "Lname = df.Shinkansen_Line.nunique()\n",
        "print(Lname)"
      ],
      "metadata": {
        "colab": {
          "base_uri": "https://localhost:8080/"
        },
        "id": "7iu5G9FHo9lx",
        "outputId": "33806964-bf8e-43d4-ee0b-5e3a59c5791f"
      },
      "execution_count": null,
      "outputs": [
        {
          "output_type": "stream",
          "name": "stdout",
          "text": [
            "16\n"
          ]
        }
      ]
    },
    {
      "cell_type": "code",
      "source": [
        "#Station grouped on bases of different lines they lie on\n",
        "Lsize=df['Shinkansen_Line'].value_counts()\n",
        "print(Lsize)\n",
        "#Note :- Some stations are common between 2 routes like Shin-Osaka is common between Tokaido and Sanyo"
      ],
      "metadata": {
        "id": "kEITq5mOtZJT",
        "colab": {
          "base_uri": "https://localhost:8080/"
        },
        "outputId": "be19fb90-97a7-4fcb-f4cb-95398a4ec09c"
      },
      "execution_count": null,
      "outputs": [
        {
          "output_type": "stream",
          "name": "stdout",
          "text": [
            "Tohoku_Shinkansen                        19\n",
            "Sanyo_Shinkansen                         17\n",
            "Tokaido_Shinkansen                       16\n",
            "Hokuriku_Shinkansen                      12\n",
            "Kyushu_Shinkansen                        11\n",
            "Yamagata_Shinkansen                      10\n",
            "Joetsu_Shinkansen                         8\n",
            "Akita_Shinkansen                          5\n",
            "Hokkaido_Shinkansen                       3\n",
            "Tokaido_Shinkansen,Sanyo_Shinkansen       1\n",
            "Sanyo_Shinkansen,Kyushu-Shinknsen         1\n",
            "Tohoku_Shinkansen,Joetsu_Shinkansen       1\n",
            "Tohoku_Shinkansen,Yamagata_Shinkansen     1\n",
            "Tohoku_Shinkansen,Akita_Shinkansen        1\n",
            "Tohoku_Shinkansen,Hokkaido_Shinkansen     1\n",
            "Joetsu_Shinkansen,Hokuriku_Shinkansen     1\n",
            "Name: Shinkansen_Line, dtype: int64\n"
          ]
        }
      ]
    },
    {
      "cell_type": "code",
      "source": [
        "#Maximum number of stations located on single route\n",
        "np.max(Lsize)\n",
        "#19 Stations are maximum which lie on Tohoku line"
      ],
      "metadata": {
        "colab": {
          "base_uri": "https://localhost:8080/"
        },
        "id": "Yo7doqHwqhPI",
        "outputId": "78734091-a6f1-462d-8590-69fc436194c0"
      },
      "execution_count": null,
      "outputs": [
        {
          "output_type": "execute_result",
          "data": {
            "text/plain": [
              "19"
            ]
          },
          "metadata": {},
          "execution_count": 61
        }
      ]
    },
    {
      "cell_type": "code",
      "source": [
        "#4.Analyzing stations based their year of opening.\n",
        "#Grouping stations by opening year \n",
        "Open=df['Year'].value_counts()\n",
        "print(Open)"
      ],
      "metadata": {
        "colab": {
          "base_uri": "https://localhost:8080/"
        },
        "id": "R5IC4sIBq945",
        "outputId": "b3fb5147-f635-4ba3-c370-43b64f9c8447"
      },
      "execution_count": null,
      "outputs": [
        {
          "output_type": "stream",
          "name": "stdout",
          "text": [
            "1982    21\n",
            "1964    12\n",
            "1997    10\n",
            "1975    10\n",
            "2015     7\n",
            "1999     6\n",
            "2011     6\n",
            "2004     6\n",
            "1972     5\n",
            "1988     5\n",
            "1992     5\n",
            "2016     3\n",
            "1985     3\n",
            "2002     3\n",
            "2010     2\n",
            "1969     1\n",
            "2003     1\n",
            "1991     1\n",
            "1990     1\n",
            "Name: Year, dtype: int64\n"
          ]
        }
      ]
    },
    {
      "cell_type": "code",
      "source": [
        "#Visualization of above data\n",
        "df['Year'].value_counts(sort=False).plot(kind ='bar')"
      ],
      "metadata": {
        "colab": {
          "base_uri": "https://localhost:8080/",
          "height": 298
        },
        "id": "1xO0dIbgMzD4",
        "outputId": "eec591e9-ce71-4a95-8ac9-0643905f9962"
      },
      "execution_count": null,
      "outputs": [
        {
          "output_type": "execute_result",
          "data": {
            "text/plain": [
              "<matplotlib.axes._subplots.AxesSubplot at 0x7fd2e1fa5650>"
            ]
          },
          "metadata": {},
          "execution_count": 69
        },
        {
          "output_type": "display_data",
          "data": {
            "text/plain": [
              "<Figure size 432x288 with 1 Axes>"
            ],
            "image/png": "[encoded data removed]"
          },
          "metadata": {
            "needs_background": "light"
          }
        }
      ]
    },
    {
      "cell_type": "code",
      "source": [
        "#Number of stations opened after 2000.\n",
        "import numpy as np\n",
        "new = np.sum(df['Year']>=2000)\n",
        "print(new)\n",
        "#28 Stations were opened after year 2000. "
      ],
      "metadata": {
        "colab": {
          "base_uri": "https://localhost:8080/"
        },
        "id": "6LhdfDozQSCn",
        "outputId": "b4a349f4-aaab-45dd-d386-17244b5a8993"
      },
      "execution_count": null,
      "outputs": [
        {
          "output_type": "execute_result",
          "data": {
            "text/plain": [
              "28"
            ]
          },
          "metadata": {},
          "execution_count": 67
        }
      ]
    },
    {
      "cell_type": "code",
      "source": [
        "#Number of stations opened before 1975.\n",
        "import numpy as np\n",
        "old = np.sum(df['Year']<1975)\n",
        "print(old)\n",
        "#18 Stations were opened before year 1975. "
      ],
      "metadata": {
        "colab": {
          "base_uri": "https://localhost:8080/"
        },
        "id": "Ch2evfGZT6re",
        "outputId": "f55561af-0296-433b-9671-82766246e1a6"
      },
      "execution_count": null,
      "outputs": [
        {
          "output_type": "stream",
          "name": "stdout",
          "text": [
            "18\n"
          ]
        }
      ]
    },
    {
      "cell_type": "code",
      "source": [
        "#5.Analyzing stations based their distance from tokyo station\n",
        "#Number of stations that are less then 500kms away from tokyo station \n",
        "sd = np.sum(df['Distance from Tokyo st']<=500)\n",
        "print(sd)\n",
        "#63 stations are less then 500kms away from tokyo station"
      ],
      "metadata": {
        "colab": {
          "base_uri": "https://localhost:8080/"
        },
        "id": "jXo00a5HrX0J",
        "outputId": "f48d7136-c7d3-45d5-e862-ec6dcc95cd67"
      },
      "execution_count": null,
      "outputs": [
        {
          "output_type": "stream",
          "name": "stdout",
          "text": [
            "63\n"
          ]
        }
      ]
    },
    {
      "cell_type": "code",
      "source": [
        "#Number of stations that are more then 1000kms away from tokyo station\n",
        "ld = np.sum(df['Distance from Tokyo st']>=1000)\n",
        "print(ld)\n",
        "#16 stations are more then 1000kms away from tokyo station"
      ],
      "metadata": {
        "colab": {
          "base_uri": "https://localhost:8080/"
        },
        "id": "lVzcy24A7YCJ",
        "outputId": "e65ef71d-7d55-4b88-8e53-a2d152c8c963"
      },
      "execution_count": null,
      "outputs": [
        {
          "output_type": "stream",
          "name": "stdout",
          "text": [
            "16\n"
          ]
        }
      ]
    },
    {
      "cell_type": "code",
      "source": [
        "# Distance between farrest station from Tokyo Station and Tokyo station\n",
        "md = np.max(df['Station_Name'],df[')\n",
        "print(md)\n",
        "# 1463.8kms is distance between farrest station from Tokyo Station and Tokyo station"
      ],
      "metadata": {
        "colab": {
          "base_uri": "https://localhost:8080/",
          "height": 217
        },
        "id": "j0HNOPbI74pS",
        "outputId": "9de3bda8-852e-4ee1-e50f-ba7d1dbb585e"
      },
      "execution_count": null,
      "outputs": [
        {
          "output_type": "error",
          "ename": "NameError",
          "evalue": "ignored",
          "traceback": [
            "\u001b[0;31m---------------------------------------------------------------------------\u001b[0m",
            "\u001b[0;31mNameError\u001b[0m                                 Traceback (most recent call last)",
            "\u001b[0;32m<ipython-input-1-d5ceee85ea72>\u001b[0m in \u001b[0;36m<module>\u001b[0;34m\u001b[0m\n\u001b[1;32m      1\u001b[0m \u001b[0;31m# Distance between farrest station from Tokyo Station and Tokyo station\u001b[0m\u001b[0;34m\u001b[0m\u001b[0;34m\u001b[0m\u001b[0;34m\u001b[0m\u001b[0m\n\u001b[0;32m----> 2\u001b[0;31m \u001b[0mmd\u001b[0m \u001b[0;34m=\u001b[0m \u001b[0mnp\u001b[0m\u001b[0;34m.\u001b[0m\u001b[0mmax\u001b[0m\u001b[0;34m(\u001b[0m\u001b[0mdf\u001b[0m\u001b[0;34m[\u001b[0m\u001b[0;34m'Station_Name'\u001b[0m\u001b[0;34m]\u001b[0m\u001b[0;34m,\u001b[0m\u001b[0mdf\u001b[0m\u001b[0;34m[\u001b[0m\u001b[0;34m'Distance from Tokyo st'\u001b[0m\u001b[0;34m]\u001b[0m\u001b[0;34m)\u001b[0m\u001b[0;34m\u001b[0m\u001b[0;34m\u001b[0m\u001b[0m\n\u001b[0m\u001b[1;32m      3\u001b[0m \u001b[0mprint\u001b[0m\u001b[0;34m(\u001b[0m\u001b[0mmd\u001b[0m\u001b[0;34m)\u001b[0m\u001b[0;34m\u001b[0m\u001b[0;34m\u001b[0m\u001b[0m\n\u001b[1;32m      4\u001b[0m \u001b[0;31m# 1463.8kms is distance between farrest station from Tokyo Station and Tokyo station\u001b[0m\u001b[0;34m\u001b[0m\u001b[0;34m\u001b[0m\u001b[0;34m\u001b[0m\u001b[0m\n",
            "\u001b[0;31mNameError\u001b[0m: name 'np' is not defined"
          ]
        }
      ]
    }
  ]
}